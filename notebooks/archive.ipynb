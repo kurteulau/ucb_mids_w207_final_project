{
 "cells": [
  {
   "cell_type": "markdown",
   "id": "1f8fa755-8e5c-4576-8cc7-47e471002ab3",
   "metadata": {},
   "source": [
    "# Archive"
   ]
  },
  {
   "cell_type": "markdown",
   "id": "92785be2-ae80-4dcb-97eb-984b3cbfa1d8",
   "metadata": {},
   "source": [
    "Place code here that we aren't using but don't want to delete permanently"
   ]
  },
  {
   "cell_type": "markdown",
   "id": "16ca1e11-1eea-47c4-9e0e-d8ed1afdf7c1",
   "metadata": {},
   "source": [
    "## Kurt\n",
    "---"
   ]
  },
  {
   "cell_type": "code",
   "execution_count": null,
   "id": "858f0c85-e47b-45da-a3be-49d2aa1fdaeb",
   "metadata": {},
   "outputs": [],
   "source": [
    "# NEW - split into train, dev, and test sets, normalizing splits by location\n",
    "from sklearn.utils import shuffle\n",
    "\n",
    "train_meta_data = pd.DataFrame()\n",
    "dev_meta_data = pd.DataFrame()\n",
    "test_meta_data = pd.DataFrame()\n",
    "\n",
    "# For every location\n",
    "for location in train_meta['location'].unique():\n",
    "    # Create a dataframe for that location and shuffle it\n",
    "    location_df = train_meta[train_meta['location'] == location]\n",
    "    location_df_shuffled = shuffle(location_df, random_state=SEED)\n",
    "    \n",
    "    # Create splits for train, dev, and test sets\n",
    "    split_1 = int(PCT_TRAIN * location_df.shape[0])\n",
    "    split_2 = int((PCT_TRAIN + PCT_DEV) * location_df.shape[0])\n",
    "    \n",
    "    # Split up shuffled dataframe (for each location)\n",
    "    location_df_train = location_df_shuffled.iloc[:split_1]\n",
    "    location_df_dev = location_df_shuffled.iloc[split_1:split_2]\n",
    "    location_df_test = location_df_shuffled.iloc[split_2:]\n",
    "    \n",
    "    # Add on the selections for train, dev, and test\n",
    "    train_meta_data = pd.concat(objs=[train_meta_data, location_df_train])\n",
    "    dev_meta_data = pd.concat(objs=[dev_meta_data, location_df_dev])\n",
    "    test_meta_data = pd.concat(objs=[test_meta_data, location_df_test])\n",
    "\n",
    "# Sanity check to make sure we didn't accidentally drop any observations\n",
    "train_meta_data.shape[0] + dev_meta_data.shape[0] + test_meta_data.shape[0] == train_meta.shape[0]"
   ]
  },
  {
   "cell_type": "markdown",
   "id": "a6b79325-0fd3-40af-8e3b-22c9ebf4e0d4",
   "metadata": {},
   "source": [
    "---"
   ]
  }
 ],
 "metadata": {
  "kernelspec": {
   "display_name": "Python 3 (ipykernel)",
   "language": "python",
   "name": "python3"
  },
  "language_info": {
   "codemirror_mode": {
    "name": "ipython",
    "version": 3
   },
   "file_extension": ".py",
   "mimetype": "text/x-python",
   "name": "python",
   "nbconvert_exporter": "python",
   "pygments_lexer": "ipython3",
   "version": "3.8.12"
  }
 },
 "nbformat": 4,
 "nbformat_minor": 5
}
