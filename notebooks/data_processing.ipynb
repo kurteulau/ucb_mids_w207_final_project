{
 "cells": [
  {
   "cell_type": "markdown",
   "id": "996f2bc0-a9e3-4922-a294-f6fa2ca8abcc",
   "metadata": {},
   "source": [
    "# File paths"
   ]
  },
  {
   "cell_type": "code",
   "execution_count": 4,
   "id": "a93e88d2-f4f1-4fc7-9e93-0c55c8653f5e",
   "metadata": {},
   "outputs": [],
   "source": [
    "# Change file path to match location of data on local machine\n",
    "TRAIN_FEATURES_FILE_PATH = '/Users/kurteulau/Desktop/w207/on_cloud_n/data/train_features' # Kurt\n",
    "TRAIN_LABELS_FILE_PATH = '/Users/kurteulau/Desktop/w207/on_cloud_n/data/train_labels' # Kurt\n",
    "\n",
    "# TRAIN_FEATURES_FILE_PATH = '' # Steve\n",
    "# TRAIN_LABELS_FILE_PATH = '' # Steve\n",
    "\n",
    "# TRAIN_FEATURES_FILE_PATH = '' # Tom\n",
    "# TRAIN_LABELS_FILE_PATH = '' # Tom"
   ]
  },
  {
   "cell_type": "code",
   "execution_count": 72,
   "id": "faac561c-2b44-4191-8e05-c82d8c1846cd",
   "metadata": {},
   "outputs": [],
   "source": [
    "NUM_CHIPS = 11748 # number of chips\n",
    "NUM_IMAGES = NUM_CHIPS * 4 # number of images per chip\n",
    "NUM_PIXELS_IMG = 512 * 512 # number of pixels in each image"
   ]
  },
  {
   "cell_type": "markdown",
   "id": "efab4f4f-1a0c-4277-9880-1df13f984ada",
   "metadata": {},
   "source": [
    "# Imports"
   ]
  },
  {
   "cell_type": "code",
   "execution_count": 40,
   "id": "727873a7-3d63-4ba0-aaa1-4934969146ae",
   "metadata": {},
   "outputs": [],
   "source": [
    "import os \n",
    "import numpy as np\n",
    "import pandas as pd\n",
    "\n",
    "from scipy import misc\n",
    "from PIL import Image"
   ]
  },
  {
   "cell_type": "markdown",
   "id": "f0115022-4635-4b80-b33d-587aa0f3a71f",
   "metadata": {},
   "source": [
    "# Processing"
   ]
  },
  {
   "cell_type": "markdown",
   "id": "d51af3bf-2e08-4f04-a4fb-dc9261268e63",
   "metadata": {},
   "source": [
    "### Convert a single image to flat list in numpy array"
   ]
  },
  {
   "cell_type": "code",
   "execution_count": 54,
   "id": "24eff500-ae71-4439-aca9-43f6d3933439",
   "metadata": {},
   "outputs": [],
   "source": [
    "im = Image.open(TRAIN_FEATURES_FILE_PATH + '/adwp/B02.tif')"
   ]
  },
  {
   "cell_type": "code",
   "execution_count": 55,
   "id": "314b6743-8718-4b9d-9529-35948e75f880",
   "metadata": {},
   "outputs": [],
   "source": [
    "im_array = np.array(im)"
   ]
  },
  {
   "cell_type": "code",
   "execution_count": 100,
   "id": "e4931409-b4d7-4318-89b8-f3551f306366",
   "metadata": {},
   "outputs": [],
   "source": [
    "final_im_array = np.zeros((NUM_IMAGES, NUM_PIXELS_IMG))"
   ]
  },
  {
   "cell_type": "code",
   "execution_count": 104,
   "id": "ffcb7a77-cf0a-42f9-8b06-e5b6ea646955",
   "metadata": {},
   "outputs": [
    {
     "data": {
      "text/plain": [
       "array([[1526., 1534., 1542., ..., 1278., 1302., 1292.],\n",
       "       [   0.,    0.,    0., ...,    0.,    0.,    0.],\n",
       "       [   0.,    0.,    0., ...,    0.,    0.,    0.],\n",
       "       ...,\n",
       "       [   0.,    0.,    0., ...,    0.,    0.,    0.],\n",
       "       [   0.,    0.,    0., ...,    0.,    0.,    0.],\n",
       "       [   0.,    0.,    0., ...,    0.,    0.,    0.]])"
      ]
     },
     "execution_count": 104,
     "metadata": {},
     "output_type": "execute_result"
    }
   ],
   "source": [
    "i = 0\n",
    "for row in im_array:\n",
    "    for col in row:\n",
    "        final_im_array[0][i] = col\n",
    "        i += 1\n",
    "\n",
    "final_im_array"
   ]
  },
  {
   "cell_type": "markdown",
   "id": "c2873b49-14cc-41bd-87b4-3333e613ff8e",
   "metadata": {},
   "source": [
    "### Walk through directory and convert all images to numpy arrays"
   ]
  },
  {
   "cell_type": "code",
   "execution_count": 105,
   "id": "6ca0c7b4-805d-4668-b58d-5c359576299b",
   "metadata": {},
   "outputs": [],
   "source": [
    "train_features_array = np.zeros((NUM_IMAGES, NUM_PIXELS_IMG))"
   ]
  },
  {
   "cell_type": "code",
   "execution_count": 106,
   "id": "916c1126-531b-4461-b57d-4dcadac5c258",
   "metadata": {
    "tags": []
   },
   "outputs": [
    {
     "ename": "UnidentifiedImageError",
     "evalue": "cannot identify image file '/Users/kurteulau/Desktop/w207/on_cloud_n/data/train_features/cjge/B03.tif.aux.xml'",
     "output_type": "error",
     "traceback": [
      "\u001b[0;31m---------------------------------------------------------------------------\u001b[0m",
      "\u001b[0;31mUnidentifiedImageError\u001b[0m                    Traceback (most recent call last)",
      "\u001b[0;32m/var/folders/0t/klm_ph4n3yxcbm49ppf1c5f40000gn/T/ipykernel_23141/1844114120.py\u001b[0m in \u001b[0;36m<module>\u001b[0;34m\u001b[0m\n\u001b[1;32m      4\u001b[0m     \u001b[0;32mfor\u001b[0m \u001b[0mname\u001b[0m \u001b[0;32min\u001b[0m \u001b[0mfiles\u001b[0m\u001b[0;34m:\u001b[0m\u001b[0;34m\u001b[0m\u001b[0;34m\u001b[0m\u001b[0m\n\u001b[1;32m      5\u001b[0m         \u001b[0mim_path\u001b[0m \u001b[0;34m=\u001b[0m \u001b[0mos\u001b[0m\u001b[0;34m.\u001b[0m\u001b[0mpath\u001b[0m\u001b[0;34m.\u001b[0m\u001b[0mjoin\u001b[0m\u001b[0;34m(\u001b[0m\u001b[0mroot\u001b[0m\u001b[0;34m,\u001b[0m \u001b[0mname\u001b[0m\u001b[0;34m)\u001b[0m\u001b[0;34m\u001b[0m\u001b[0;34m\u001b[0m\u001b[0m\n\u001b[0;32m----> 6\u001b[0;31m         \u001b[0mim\u001b[0m \u001b[0;34m=\u001b[0m \u001b[0mImage\u001b[0m\u001b[0;34m.\u001b[0m\u001b[0mopen\u001b[0m\u001b[0;34m(\u001b[0m\u001b[0mim_path\u001b[0m\u001b[0;34m)\u001b[0m\u001b[0;34m\u001b[0m\u001b[0;34m\u001b[0m\u001b[0m\n\u001b[0m\u001b[1;32m      7\u001b[0m         \u001b[0mim_array\u001b[0m \u001b[0;34m=\u001b[0m \u001b[0mnp\u001b[0m\u001b[0;34m.\u001b[0m\u001b[0marray\u001b[0m\u001b[0;34m(\u001b[0m\u001b[0mim\u001b[0m\u001b[0;34m)\u001b[0m\u001b[0;34m\u001b[0m\u001b[0;34m\u001b[0m\u001b[0m\n\u001b[1;32m      8\u001b[0m \u001b[0;34m\u001b[0m\u001b[0m\n",
      "\u001b[0;32m~/opt/anaconda3/lib/python3.9/site-packages/PIL/Image.py\u001b[0m in \u001b[0;36mopen\u001b[0;34m(fp, mode, formats)\u001b[0m\n\u001b[1;32m   3028\u001b[0m     \u001b[0;32mfor\u001b[0m \u001b[0mmessage\u001b[0m \u001b[0;32min\u001b[0m \u001b[0maccept_warnings\u001b[0m\u001b[0;34m:\u001b[0m\u001b[0;34m\u001b[0m\u001b[0;34m\u001b[0m\u001b[0m\n\u001b[1;32m   3029\u001b[0m         \u001b[0mwarnings\u001b[0m\u001b[0;34m.\u001b[0m\u001b[0mwarn\u001b[0m\u001b[0;34m(\u001b[0m\u001b[0mmessage\u001b[0m\u001b[0;34m)\u001b[0m\u001b[0;34m\u001b[0m\u001b[0;34m\u001b[0m\u001b[0m\n\u001b[0;32m-> 3030\u001b[0;31m     raise UnidentifiedImageError(\n\u001b[0m\u001b[1;32m   3031\u001b[0m         \u001b[0;34m\"cannot identify image file %r\"\u001b[0m \u001b[0;34m%\u001b[0m \u001b[0;34m(\u001b[0m\u001b[0mfilename\u001b[0m \u001b[0;32mif\u001b[0m \u001b[0mfilename\u001b[0m \u001b[0;32melse\u001b[0m \u001b[0mfp\u001b[0m\u001b[0;34m)\u001b[0m\u001b[0;34m\u001b[0m\u001b[0;34m\u001b[0m\u001b[0m\n\u001b[1;32m   3032\u001b[0m     )\n",
      "\u001b[0;31mUnidentifiedImageError\u001b[0m: cannot identify image file '/Users/kurteulau/Desktop/w207/on_cloud_n/data/train_features/cjge/B03.tif.aux.xml'"
     ]
    }
   ],
   "source": [
    "# Takes a LONG time\n",
    "img_counter = 0\n",
    "\n",
    "for root, dirs, files in os.walk(TRAIN_FEATURES_FILE_PATH, topdown=False):\n",
    "    for name in files:\n",
    "        im_path = os.path.join(root, name)\n",
    "        im = Image.open(im_path)\n",
    "        im_array = np.array(im)\n",
    "        \n",
    "        i = 0\n",
    "        for row in im_array:\n",
    "            for col in row:\n",
    "                train_features_array[img_counter][i] = col\n",
    "                i += 1\n",
    "        img_counter += 1"
   ]
  },
  {
   "cell_type": "code",
   "execution_count": null,
   "id": "a4604aeb-78c1-4016-8554-e6f2ff465f60",
   "metadata": {},
   "outputs": [],
   "source": [
    "train_features_array"
   ]
  },
  {
   "cell_type": "code",
   "execution_count": 36,
   "id": "c9f7bc4a-3f07-4235-b91e-903c817c19f9",
   "metadata": {},
   "outputs": [
    {
     "name": "stdout",
     "output_type": "stream",
     "text": [
      "11748\n"
     ]
    }
   ],
   "source": [
    "# for dirpath, dirnames, filenames in os.walk(TRAIN_FEATURES_FILE_PATH):\n",
    "#     if len(dirnames) > 0:\n",
    "#         print(len(dirnames))"
   ]
  },
  {
   "cell_type": "code",
   "execution_count": null,
   "id": "b39c4116-56a3-4d6b-ab18-a54d41825b16",
   "metadata": {},
   "outputs": [],
   "source": []
  }
 ],
 "metadata": {
  "kernelspec": {
   "display_name": "Python 3 (ipykernel)",
   "language": "python",
   "name": "python3"
  },
  "language_info": {
   "codemirror_mode": {
    "name": "ipython",
    "version": 3
   },
   "file_extension": ".py",
   "mimetype": "text/x-python",
   "name": "python",
   "nbconvert_exporter": "python",
   "pygments_lexer": "ipython3",
   "version": "3.9.7"
  }
 },
 "nbformat": 4,
 "nbformat_minor": 5
}
