{
 "cells": [
  {
   "cell_type": "markdown",
   "id": "efab4f4f-1a0c-4277-9880-1df13f984ada",
   "metadata": {},
   "source": [
    "# Imports"
   ]
  },
  {
   "cell_type": "code",
   "execution_count": 1,
   "id": "727873a7-3d63-4ba0-aaa1-4934969146ae",
   "metadata": {},
   "outputs": [],
   "source": [
    "import numpy as np\n",
    "import pandas as pd"
   ]
  },
  {
   "cell_type": "code",
   "execution_count": 4,
   "id": "40d6df12-15cc-42da-b0e3-ba608ae9f120",
   "metadata": {},
   "outputs": [],
   "source": [
    "SOLAR_VALUE = '../data/external/Annual_Solar_Value_by_plant_and_county.xlsx'\n",
    "CAPACITY = '../data/external/Capacity_credit_data_by_plant_and_county.xlsx'"
   ]
  },
  {
   "cell_type": "code",
   "execution_count": 5,
   "id": "f31f56bf-8d34-49ff-b51f-42cf4503fd0c",
   "metadata": {},
   "outputs": [],
   "source": [
    "solar_value_df = pd.read_excel(SOLAR_VALUE)\n",
    "capacity_df = pd.read_excel(CAPACITY)"
   ]
  },
  {
   "cell_type": "code",
   "execution_count": 9,
   "id": "e3e49847-e08b-4ce1-9342-f32066c24810",
   "metadata": {},
   "outputs": [
    {
     "data": {
      "text/html": [
       "<div>\n",
       "<style scoped>\n",
       "    .dataframe tbody tr th:only-of-type {\n",
       "        vertical-align: middle;\n",
       "    }\n",
       "\n",
       "    .dataframe tbody tr th {\n",
       "        vertical-align: top;\n",
       "    }\n",
       "\n",
       "    .dataframe thead th {\n",
       "        text-align: right;\n",
       "    }\n",
       "</style>\n",
       "<table border=\"1\" class=\"dataframe\">\n",
       "  <thead>\n",
       "    <tr style=\"text-align: right;\">\n",
       "      <th></th>\n",
       "      <th>BA</th>\n",
       "      <th>EIA_Plant_ID</th>\n",
       "      <th>Year</th>\n",
       "      <th>Generation_(post-curtailment)</th>\n",
       "      <th>Curtailment</th>\n",
       "      <th>Energy_Value_MWh</th>\n",
       "      <th>Cap_Value_MWh</th>\n",
       "      <th>Cap_Value_kW_yr</th>\n",
       "      <th>Total_Value_MWh</th>\n",
       "      <th>Value_Factor</th>\n",
       "    </tr>\n",
       "  </thead>\n",
       "  <tbody>\n",
       "  </tbody>\n",
       "</table>\n",
       "</div>"
      ],
      "text/plain": [
       "Empty DataFrame\n",
       "Columns: [BA, EIA_Plant_ID, Year, Generation_(post-curtailment), Curtailment, Energy_Value_MWh, Cap_Value_MWh, Cap_Value_kW_yr, Total_Value_MWh, Value_Factor]\n",
       "Index: []"
      ]
     },
     "execution_count": 9,
     "metadata": {},
     "output_type": "execute_result"
    }
   ],
   "source": [
    "# No data for 2020\n",
    "solar_value_df[solar_value_df['Year'] == 2020]"
   ]
  },
  {
   "cell_type": "code",
   "execution_count": null,
   "id": "b64bcbd2-1150-46b4-9777-edc3c5f30e3a",
   "metadata": {},
   "outputs": [],
   "source": []
  }
 ],
 "metadata": {
  "kernelspec": {
   "display_name": "Python 3 (ipykernel)",
   "language": "python",
   "name": "python3"
  },
  "language_info": {
   "codemirror_mode": {
    "name": "ipython",
    "version": 3
   },
   "file_extension": ".py",
   "mimetype": "text/x-python",
   "name": "python",
   "nbconvert_exporter": "python",
   "pygments_lexer": "ipython3",
   "version": "3.9.7"
  }
 },
 "nbformat": 4,
 "nbformat_minor": 5
}
