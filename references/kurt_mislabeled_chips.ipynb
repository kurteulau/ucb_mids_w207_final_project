{
 "cells": [
  {
   "cell_type": "markdown",
   "id": "bb16db37-a9c2-4bab-a131-09040d2b0583",
   "metadata": {},
   "source": [
    "# Kurt"
   ]
  },
  {
   "cell_type": "markdown",
   "id": "970d36b6-74e1-457c-8b7f-6404be5083b8",
   "metadata": {},
   "source": [
    "## Mislabeled Chips with No (0) Cloud Pixels in Label"
   ]
  },
  {
   "cell_type": "markdown",
   "id": "859cdcde-d720-45a0-8756-49f63d81ad1a",
   "metadata": {},
   "source": [
    "Ranges of images inclusive of lower bound but not the upper bound. Example `imgs_0_100_no_cloud_pixels.png` contains images with indexes 0 to 99 and `imgs_100_200_no_cloud_pixels.png` contains images with indexes 100 to 199. Index values are NOT from the actual training set, but rather the dataframe pulled from the training set to extract chips with labels that have no cloud pixels."
   ]
  },
  {
   "cell_type": "code",
   "execution_count": 1,
   "id": "f39a180e-e1b5-4337-a655-b1a53ca41951",
   "metadata": {},
   "outputs": [],
   "source": [
    "imgs_0_100_no_cloud_pixels = []\n",
    "imgs_100_200_no_cloud_pixels = []\n",
    "imgs_200_300_no_cloud_pixels = []\n",
    "imgs_300_400_no_cloud_pixels = []\n",
    "\n",
    "# overlaps with previous set, do not include repeated chips here\n",
    "imgs_359_459_no_cloud_pixels = [] "
   ]
  },
  {
   "cell_type": "markdown",
   "id": "27373621-5d51-4d39-8237-936f2e3ce367",
   "metadata": {},
   "source": [
    "## Mislabeled Chips with All (262,144) Cloud Pixels in Label"
   ]
  },
  {
   "cell_type": "markdown",
   "id": "dc69b119-bb9e-4205-b7c2-d2062035057f",
   "metadata": {},
   "source": [
    "Ranges of images follow same convention as chips labeled with no cloud pixels in the label where the lower bound is included but the upper bound is not."
   ]
  },
  {
   "cell_type": "code",
   "execution_count": null,
   "id": "e58100a4-0386-4a13-a7e3-ea88ec79429d",
   "metadata": {},
   "outputs": [],
   "source": [
    "imgs_0_100_all_cloud_pixels = []\n",
    "imgs_100_200_all_cloud_pixels = []\n",
    "imgs_200_300_all_cloud_pixels = []\n",
    "imgs_300_400_all_cloud_pixels = []\n",
    "imgs_400_500_all_cloud_pixels = []\n",
    "imgs_500_600_all_cloud_pixels = []\n",
    "imgs_600_700_all_cloud_pixels = []\n",
    "imgs_700_800_all_cloud_pixels = []\n",
    "imgs_800_900_all_cloud_pixels = []\n",
    "imgs_900_1000_all_cloud_pixels = []\n",
    "imgs_1000_1100_all_cloud_pixels = []\n",
    "imgs_1100_1200_all_cloud_pixels = []\n",
    "imgs_1200_1300_all_cloud_pixels = []\n",
    "imgs_1300_1400_all_cloud_pixels = []\n",
    "imgs_1400_1500_all_cloud_pixels = []\n",
    "imgs_1500_1600_all_cloud_pixels = []\n",
    "imgs_1600_1700_all_cloud_pixels = []\n",
    "\n",
    "# overlaps with previous set, do not include repeated chips here\n",
    "imgs_1659_1759_all_cloud_pixels = []"
   ]
  }
 ],
 "metadata": {
  "kernelspec": {
   "display_name": "Python 3 (ipykernel)",
   "language": "python",
   "name": "python3"
  },
  "language_info": {
   "codemirror_mode": {
    "name": "ipython",
    "version": 3
   },
   "file_extension": ".py",
   "mimetype": "text/x-python",
   "name": "python",
   "nbconvert_exporter": "python",
   "pygments_lexer": "ipython3",
   "version": "3.8.12"
  }
 },
 "nbformat": 4,
 "nbformat_minor": 5
}
