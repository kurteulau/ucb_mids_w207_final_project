{
 "cells": [
  {
   "cell_type": "markdown",
   "id": "bb16db37-a9c2-4bab-a131-09040d2b0583",
   "metadata": {},
   "source": [
    "# Kurt"
   ]
  },
  {
   "cell_type": "markdown",
   "id": "970d36b6-74e1-457c-8b7f-6404be5083b8",
   "metadata": {
    "tags": []
   },
   "source": [
    "## Mislabeled Chips with No (0) Cloud Pixels in Label"
   ]
  },
  {
   "cell_type": "markdown",
   "id": "859cdcde-d720-45a0-8756-49f63d81ad1a",
   "metadata": {},
   "source": [
    "Ranges of images inclusive of lower bound but not the upper bound. Example `imgs_0_100_no_cloud_pixels.png` contains images with indexes 0 to 99 and `imgs_100_200_no_cloud_pixels.png` contains images with indexes 100 to 199. Index values are NOT from the actual training set, but rather the dataframe pulled from the training set to extract chips with labels that have no cloud pixels."
   ]
  },
  {
   "cell_type": "markdown",
   "id": "2354cd9f-51cd-4431-8714-99c2e2f00041",
   "metadata": {},
   "source": [
    "Chips that definitely have clouds"
   ]
  },
  {
   "cell_type": "code",
   "execution_count": 3,
   "id": "f39a180e-e1b5-4337-a655-b1a53ca41951",
   "metadata": {},
   "outputs": [],
   "source": [
    "imgs_0_100_no_cloud_pixels = ['aisf', 'cutk', 'ahfi', 'alfq', 'akkb', 'coig', 'auza',  'cmdp', \n",
    "                              'cmmt', 'denk', 'dcmm', 'ddpj', 'kgqy']\n",
    "imgs_100_200_no_cloud_pixels = ['dmig', 'dxue', 'emnp', 'emih', 'ekiw', 'eojj', 'qrrb', 'eyjs',\n",
    "                                'eyrd', 'phzr', 'foxl', 'fmop', 'phmo', 'ggyg', 'gsks', 'hsfa',\n",
    "                                'hxzp', 'iauq', 'ibmj', 'ibsj', 'ibpy', 'ibhj', 'hzbr', 'hxyc',\n",
    "                                'iamf', 'iall', 'hxrn', 'hxqn', 'hxlr', 'hyqb', 'hyrk', 'ianb',\n",
    "                                'hztm', 'ibhw', 'hzsu', 'hxzc', 'hxwk', 'iacc']\n",
    "imgs_200_300_no_cloud_pixels = ['ibro', 'hzxh', 'hxlo', 'ibeu', 'hzip', 'ibmv', 'iblr', 'hyae',\n",
    "                                'hzao', 'hzwe', 'hxlf', 'hzzt', 'iasj', 'hxcm', 'iasx', 'hylt',\n",
    "                                'hxzh', 'hyfc', 'hxyh', 'hxxp', 'iayx', 'hyej', 'ibtp', 'ixxz',\n",
    "                                'jdzi', 'jxwa', 'kxgj', 'lash', 'ldtr', 'lcnn', 'mqxg', 'mpbf',\n",
    "                                'mqqi']\n",
    "imgs_300_400_no_cloud_pixels = ['nzxy', 'oagv', 'pelr', 'zdyz', 'rbuz', 'smpm', 'svpj', 'tgni',\n",
    "                                'vehl', 'vpzw', 'wtjn', 'wtdv', 'wyhb', 'xltr', 'xtwd', 'yeuc', \n",
    "                                'ydou', 'ycro']\n",
    "\n",
    "# overlaps with previous set, do not include repeated chips here\n",
    "imgs_359_459_no_cloud_pixels = ['yykc'] "
   ]
  },
  {
   "cell_type": "markdown",
   "id": "e7e464db-6240-46b1-bee1-2d7722130367",
   "metadata": {},
   "source": [
    "Chips that may have clouds but hard to tell for certain"
   ]
  },
  {
   "cell_type": "code",
   "execution_count": 4,
   "id": "9accc94e-c6e8-49e1-a0b8-b641b368e3d8",
   "metadata": {},
   "outputs": [],
   "source": [
    "imgs_0_100_no_cloud_pixels_questionable = ['crjn', 'bhfg', 'bgjq', 'bguw', 'bjri', 'bhza', 'bitg', 'bkdx']\n",
    "imgs_100_200_no_cloud_pixels_questionable = ['dzkm', 'pixc', 'fmhj', 'flnb', 'pgxo', 'fmcm']\n",
    "imgs_200_300_no_cloud_pixels_questionable = ['hzvy', 'ibdb']\n",
    "imgs_300_400_no_cloud_pixels_questionable = ['vjlr', 'vyop', 'vyne', 'vytu', 'wmrt', 'whpp', 'ygia']\n",
    "\n",
    "# overlaps with previous set, do not include repeated chips here\n",
    "imgs_359_459_no_cloud_pixels_questionable = ['yhos', 'yion'] "
   ]
  },
  {
   "cell_type": "code",
   "execution_count": 7,
   "id": "7206699b-d502-4dd7-8e5d-383c1bdb461a",
   "metadata": {},
   "outputs": [
    {
     "name": "stdout",
     "output_type": "stream",
     "text": [
      "Number of mislabeled chips showing zero cloud pixels: 103\n"
     ]
    }
   ],
   "source": [
    "num_mislabeled_no_cloud = len(imgs_0_100_no_cloud_pixels + imgs_100_200_no_cloud_pixels + imgs_200_300_no_cloud_pixels + imgs_300_400_no_cloud_pixels + imgs_359_459_no_cloud_pixels)\n",
    "print('Number of mislabeled chips showing zero cloud pixels:', num_mislabeled_no_cloud)"
   ]
  },
  {
   "cell_type": "markdown",
   "id": "27373621-5d51-4d39-8237-936f2e3ce367",
   "metadata": {},
   "source": [
    "## Mislabeled Chips with All (262,144) Cloud Pixels in Label"
   ]
  },
  {
   "cell_type": "markdown",
   "id": "dc69b119-bb9e-4205-b7c2-d2062035057f",
   "metadata": {},
   "source": [
    "Ranges of images follow same convention as chips labeled with no cloud pixels in the label where the lower bound is included but the upper bound is not."
   ]
  },
  {
   "cell_type": "markdown",
   "id": "bacbc3e8-1a92-4737-b3cd-ace6ee4f4105",
   "metadata": {},
   "source": [
    "Chips that definitely aren't all clouds"
   ]
  },
  {
   "cell_type": "code",
   "execution_count": null,
   "id": "e58100a4-0386-4a13-a7e3-ea88ec79429d",
   "metadata": {},
   "outputs": [],
   "source": [
    "imgs_0_100_all_cloud_pixels = []\n",
    "imgs_100_200_all_cloud_pixels = []\n",
    "imgs_200_300_all_cloud_pixels = []\n",
    "imgs_300_400_all_cloud_pixels = ['khgv']\n",
    "imgs_400_500_all_cloud_pixels = [, 'phux', 'pjtw']\n",
    "imgs_500_600_all_cloud_pixels = []\n",
    "imgs_600_700_all_cloud_pixels = ['ibok', 'iasg', 'ibak', 'hybs', 'ibtu', 'ilel', ]\n",
    "imgs_700_800_all_cloud_pixels = []\n",
    "imgs_800_900_all_cloud_pixels = []\n",
    "imgs_900_1000_all_cloud_pixels = []\n",
    "imgs_1000_1100_all_cloud_pixels = ['zarq', ]\n",
    "imgs_1100_1200_all_cloud_pixels = []\n",
    "imgs_1200_1300_all_cloud_pixels = [] \n",
    "imgs_1300_1400_all_cloud_pixels = []\n",
    "imgs_1400_1500_all_cloud_pixels = ['wgsf', 'wxir']\n",
    "imgs_1500_1600_all_cloud_pixels = ['xnkl', ]\n",
    "imgs_1600_1700_all_cloud_pixels = []\n",
    "\n",
    "# overlaps with previous set, do not include repeated chips here\n",
    "imgs_1659_1759_all_cloud_pixels = []"
   ]
  },
  {
   "cell_type": "markdown",
   "id": "06d9fd3c-9cc9-4516-95b5-093256060b89",
   "metadata": {},
   "source": [
    "Chips that may not be all clouds"
   ]
  },
  {
   "cell_type": "code",
   "execution_count": null,
   "id": "c33f4e59-6d76-4e14-9448-aa3ed44e4f5e",
   "metadata": {},
   "outputs": [],
   "source": [
    "imgs_0_100_all_cloud_pixels_questionable = []\n",
    "imgs_100_200_all_cloud_pixels_questionable = ['bgla', 'bkuu', 'bjmx', 'bgso', 'bjsl', 'bugl', 'bwoh']\n",
    "imgs_200_300_all_cloud_pixels_questionable = ['bwju', 'bwtj', 'dfay', 'dbam', 'dcbp', 'dbyx', 'ddtj', 'ddgk',\n",
    "                                              'dczq', 'dbmi', 'ddjf', 'detm', 'dbiq', 'deoo', 'dchn', 'deys',\n",
    "                                              'dcuw', ]\n",
    "imgs_300_400_all_cloud_pixels_questionable = []\n",
    "imgs_400_500_all_cloud_pixels_questionable = []\n",
    "imgs_500_600_all_cloud_pixels_questionable = ['gtve', 'gqgj', 'gtil', 'grwn', 'grcs', 'gsfk']\n",
    "imgs_600_700_all_cloud_pixels_questionable = ['hxhh', ]\n",
    "imgs_700_800_all_cloud_pixels_questionable = []\n",
    "imgs_800_900_all_cloud_pixels_questionable = ['mbxs']\n",
    "imgs_900_1000_all_cloud_pixels_questionable = ['nzxf']\n",
    "imgs_1000_1100_all_cloud_pixels_questionable = []\n",
    "imgs_1100_1200_all_cloud_pixels_questionable = []\n",
    "imgs_1200_1300_all_cloud_pixels_questionable = []\n",
    "imgs_1300_1400_all_cloud_pixels_questionable = []\n",
    "imgs_1400_1500_all_cloud_pixels_questionable = []\n",
    "imgs_1500_1600_all_cloud_pixels_questionable = []\n",
    "imgs_1600_1700_all_cloud_pixels_questionable = []\n",
    "\n",
    "# overlaps with previous set, do not include repeated chips here\n",
    "imgs_1659_1759_all_cloud_pixels_questionable = []"
   ]
  }
 ],
 "metadata": {
  "kernelspec": {
   "display_name": "Python 3 (ipykernel)",
   "language": "python",
   "name": "python3"
  },
  "language_info": {
   "codemirror_mode": {
    "name": "ipython",
    "version": 3
   },
   "file_extension": ".py",
   "mimetype": "text/x-python",
   "name": "python",
   "nbconvert_exporter": "python",
   "pygments_lexer": "ipython3",
   "version": "3.8.12"
  }
 },
 "nbformat": 4,
 "nbformat_minor": 5
}
